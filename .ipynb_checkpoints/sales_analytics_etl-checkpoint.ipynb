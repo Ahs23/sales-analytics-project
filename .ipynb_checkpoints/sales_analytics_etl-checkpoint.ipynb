{
 "cells": [
  {
   "cell_type": "code",
   "execution_count": 2,
   "id": "839910c8-4fa7-4d5b-9208-0b58f015cdb2",
   "metadata": {},
   "outputs": [
    {
     "name": "stdout",
     "output_type": "stream",
     "text": [
      "<class 'pandas.core.frame.DataFrame'>\n",
      "RangeIndex: 2823 entries, 0 to 2822\n",
      "Data columns (total 25 columns):\n",
      " #   Column            Non-Null Count  Dtype         \n",
      "---  ------            --------------  -----         \n",
      " 0   ORDERNUMBER       2823 non-null   int64         \n",
      " 1   QUANTITYORDERED   2823 non-null   int64         \n",
      " 2   PRICEEACH         2823 non-null   float64       \n",
      " 3   ORDERLINENUMBER   2823 non-null   int64         \n",
      " 4   SALES             2823 non-null   float64       \n",
      " 5   ORDERDATE         2823 non-null   datetime64[ns]\n",
      " 6   STATUS            2823 non-null   object        \n",
      " 7   QTR_ID            2823 non-null   int64         \n",
      " 8   MONTH_ID          2823 non-null   int64         \n",
      " 9   YEAR_ID           2823 non-null   int64         \n",
      " 10  PRODUCTLINE       2823 non-null   object        \n",
      " 11  MSRP              2823 non-null   int64         \n",
      " 12  PRODUCTCODE       2823 non-null   object        \n",
      " 13  CUSTOMERNAME      2823 non-null   object        \n",
      " 14  PHONE             2823 non-null   object        \n",
      " 15  ADDRESSLINE1      2823 non-null   object        \n",
      " 16  ADDRESSLINE2      302 non-null    object        \n",
      " 17  CITY              2823 non-null   object        \n",
      " 18  STATE             1337 non-null   object        \n",
      " 19  POSTALCODE        2747 non-null   object        \n",
      " 20  COUNTRY           2823 non-null   object        \n",
      " 21  TERRITORY         1749 non-null   object        \n",
      " 22  CONTACTLASTNAME   2823 non-null   object        \n",
      " 23  CONTACTFIRSTNAME  2823 non-null   object        \n",
      " 24  DEALSIZE          2823 non-null   object        \n",
      "dtypes: datetime64[ns](1), float64(2), int64(7), object(15)\n",
      "memory usage: 551.5+ KB\n"
     ]
    },
    {
     "data": {
      "text/plain": [
       "array(['Motorcycles', 'Classic Cars', 'Trucks and Buses', 'Vintage Cars',\n",
       "       'Planes', 'Ships', 'Trains'], dtype=object)"
      ]
     },
     "execution_count": 2,
     "metadata": {},
     "output_type": "execute_result"
    }
   ],
   "source": [
    "import pandas as pd\n",
    "\n",
    "df = pd.read_csv(\"sales_data_sample.csv\", encoding=\"latin1\", parse_dates=[\"ORDERDATE\"])\n",
    "df.shape, df.columns, df.head()\n",
    "\n",
    "# Check data structure and types\n",
    "df.info()\n",
    "\n",
    "# Get statistical summary for numeric columns\n",
    "df.describe()\n",
    "\n",
    "# Check how many times each status appears\n",
    "df[\"STATUS\"].value_counts()\n",
    "\n",
    "# See unique values in a key column\n",
    "df[\"PRODUCTLINE\"].unique()\n"
   ]
  },
  {
   "cell_type": "code",
   "execution_count": null,
   "id": "a9af39ec-71a5-4b04-a81f-761c44c57488",
   "metadata": {},
   "outputs": [],
   "source": []
  }
 ],
 "metadata": {
  "kernelspec": {
   "display_name": "Python [conda env:base] *",
   "language": "python",
   "name": "conda-base-py"
  },
  "language_info": {
   "codemirror_mode": {
    "name": "ipython",
    "version": 3
   },
   "file_extension": ".py",
   "mimetype": "text/x-python",
   "name": "python",
   "nbconvert_exporter": "python",
   "pygments_lexer": "ipython3",
   "version": "3.13.5"
  }
 },
 "nbformat": 4,
 "nbformat_minor": 5
}
